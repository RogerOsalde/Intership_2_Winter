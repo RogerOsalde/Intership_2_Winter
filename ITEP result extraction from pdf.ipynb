{
 "cells": [
  {
   "cell_type": "markdown",
   "metadata": {
    "collapsed": true
   },
   "source": [
    "# Project: Análisis y Reporte de Resultados de Exámenes de Certificación para la Identificación de Áreas de Oportunidad Parte 2\n",
    "\n",
    "\n"
   ]
  },
  {
   "cell_type": "markdown",
   "metadata": {},
   "source": [
    "## Universidad Politécnica de Yucatán\n",
    "\n",
    "## Coordinacion del Departamento de Inglés \n",
    "\n",
    "## Asesor: Lic. Alejandra Cabrera Casillas"
   ]
  },
  {
   "cell_type": "code",
   "execution_count": null,
   "metadata": {
    "collapsed": true
   },
   "outputs": [],
   "source": [
    "from PIL import Image\n",
    "import pytesseract\n",
    "import sys\n",
    "from pdf2image import convert_from_path\n",
    "import os\n",
    "from os import remove\n",
    "import cv2 as cv\n",
    "import numpy as np\n",
    "import pandas as pd\n",
    "import glob, os\n",
    "from tabula import read_pdf\n",
    "import tabula"
   ]
  },
  {
   "cell_type": "markdown",
   "metadata": {},
   "source": [
    "# Change the PDF'S name\n"
   ]
  },
  {
   "cell_type": "code",
   "execution_count": 2,
   "metadata": {
    "collapsed": true
   },
   "outputs": [],
   "source": [
    "def rename(dir, pattern, titlePattern):\n",
    "    i = 0\n",
    "    for pathAndFilename in glob.iglob(os.path.join(dir, pattern)):\n",
    "        i=i+1\n",
    "        title, ext = os.path.splitext(os.path.basename(pathAndFilename))\n",
    "        os.rename(pathAndFilename,os.path.join(dir, titlePattern % i + ext))"
   ]
  },
  {
   "cell_type": "code",
   "execution_count": null,
   "metadata": {
    "collapsed": true
   },
   "outputs": [],
   "source": [
    "rename(os.getcwd(), r'*.pdf', r'doc%s')"
   ]
  },
  {
   "cell_type": "markdown",
   "metadata": {},
   "source": [
    "# List for save the scores"
   ]
  },
  {
   "cell_type": "code",
   "execution_count": 3,
   "metadata": {
    "collapsed": true
   },
   "outputs": [],
   "source": [
    "#Big_skils\n",
    "Grammar = []\n",
    "Listening = []\n",
    "Reading = []\n",
    "Writing = []\n",
    "Speaking = []\n",
    "Level = []\n",
    "#Grammar\n",
    "ARTICLES_Y_PREPOSITIONS1 = []\n",
    "CONJUNCTIONS1 = []\n",
    "EXPRESSING_QUANTITY1 = []\n",
    "PARTS_OF_SPEECH1 = []\n",
    "PRONOUNS1 = []\n",
    "SENTENCE_STRUCTURE1 = []\n",
    "VERB_FORMS1 = []\n",
    "#listening\n",
    "CATCHING_DETAILS1 = []\n",
    "CONNECTING_CONTENT1 = []\n",
    "DETERMINING_THE_PURPOSE1 = []\n",
    "MAIN_IDEA1 = []\n",
    "MAKING_IMPLICATIONS1 = []\n",
    "#reading\n",
    "DETAIL1 = []\n",
    "MAIN_IDEA12 = []\n",
    "SEQUENCING1 = []\n",
    "SYNTHESIS1 = []\n",
    "VOCABULARY1 = []\n",
    "#\n",
    "list_habi = [0,1,2,3,4,5,6,7,8,9,10,11,12,13,14,15,16]\n",
    "list_habilides_score =[]\n",
    "columns=[\"Level\",\"Grammar\",\"Listening\",\"Reading\",\"Writing\",\"Speaking\",\"ARTICLES_Y_PREPOSITIONS\",\"CONJUNCTIONS\",\"EXPRESSING_QUANTITY\",\"PARTS_OF_SPEECH\",\"PRONOUNS\",\"SENTENCE_STRUCTURE\",\"VERB_FORMS\", \"CATCHING_DETAILS\",\"CONNECTING_CONTENT\",\"DETERMINING_THE_PURPOSE\", \"MAIN_IDEA\", \"MAKING_IMPLICATIONS\", \"DETAIL\",\"MAIN_IDEA\",\"SEQUENCING\",\"SYNTHESIS\", \"VOCABULARY\"]"
   ]
  },
  {
   "cell_type": "markdown",
   "metadata": {},
   "source": [
    "# Functions"
   ]
  },
  {
   "cell_type": "markdown",
   "metadata": {},
   "source": [
    "## Function to search for skills with zero score"
   ]
  },
  {
   "cell_type": "code",
   "execution_count": 5,
   "metadata": {
    "collapsed": true
   },
   "outputs": [],
   "source": [
    "def check_list(lista_colum):\n",
    "    for i in range(len(lista_colum)):\n",
    "        if lista_colum[i] not in list_habilides_score:\n",
    "            if list_habi[i] == 5:\n",
    "                ARTICLES_Y_PREPOSITIONS1.append(0)\n",
    "            elif list_habi[i] == 6:\n",
    "                CONJUNCTIONS1.append(0)\n",
    "            elif list_habi[i] == 7:\n",
    "                EXPRESSING_QUANTITY1.append(0)\n",
    "            elif list_habi[i] == 8:\n",
    "                PARTS_OF_SPEECH1.append(0)\n",
    "            elif list_habi[i] == 9:\n",
    "                PRONOUNS1.append(0)\n",
    "            elif list_habi[i] == 10:\n",
    "                SENTENCE_STRUCTURE1.append(0)\n",
    "            elif list_habi[i] == 11:\n",
    "                VERB_FORMS1.append(0)\n",
    "            elif list_habi[i] == 0:\n",
    "                CATCHING_DETAILS1.append(0)\n",
    "            elif list_habi[i] == 1:\n",
    "                CONNECTING_CONTENT1.append(0)\n",
    "            elif list_habi[i] == 2:\n",
    "                DETERMINING_THE_PURPOSE.append(0)\n",
    "            elif list_habi[i] == 3:\n",
    "                MAIN_IDEA1.append(0)\n",
    "            elif list_habi[i] == 4:\n",
    "                MAKING_IMPLICATIONS1.append(0)\n",
    "            elif list_habi[i] == 12:\n",
    "                DETAIL1.append(0)\n",
    "            elif list_habi[i] == 13:\n",
    "                MAIN_IDEA12.append(0)\n",
    "            elif list_habi[i] == 14:\n",
    "                SEQUENCING1.append(0)\n",
    "            elif list_habi[i] == 15:\n",
    "                SYNTHESIS1.append(0)\n",
    "            elif list_habi[i] == 16:\n",
    "                VOCABULARY1.append(0)"
   ]
  },
  {
   "cell_type": "markdown",
   "metadata": {},
   "source": [
    "## Function to return the areas percentages\n"
   ]
  },
  {
   "cell_type": "code",
   "execution_count": 6,
   "metadata": {
    "collapsed": true
   },
   "outputs": [],
   "source": [
    "List_areas100=[3582.5,3465.5,3685,3563.5,3554.5,3583.0,3594.0,3443.5,3680.0,3569.0,3552.5,3407.5,3587.5,3462.0,3683.0,3578.5,3551.5]\n",
    "#Grammar\n",
    "def Porcentage(area,i):\n",
    "    porcentage= (area*100)/List_areas100[i]\n",
    "    return porcentage\n"
   ]
  },
  {
   "cell_type": "markdown",
   "metadata": {},
   "source": [
    "## Function to extract the data from the first sheet of the pdf\n"
   ]
  },
  {
   "cell_type": "code",
   "execution_count": 7,
   "metadata": {
    "collapsed": true
   },
   "outputs": [],
   "source": [
    "def tablaa(df):\n",
    "    a=list(df[0]['TEST SECTION'])\n",
    "    b=list(df[0]['SCORE'])\n",
    "    c=list(df[0]['LEVEL'])\n",
    "    level = 0\n",
    "    for i in range(len(a)):\n",
    "        if a[i] == \"Grammar\":\n",
    "            Grammar.append(b[i])\n",
    "            level = level + c[i]\n",
    "        elif a[i] == \"Listening\":\n",
    "            Listening.append(b[i])\n",
    "            level = level + c[i]\n",
    "        elif a[i] == \"Reading\":\n",
    "            Reading.append(b[i])\n",
    "            level = level + c[i]\n",
    "        elif a[i] == \"Writing\":\n",
    "            Writing.append(b[i])\n",
    "            level = level + c[i]\n",
    "        elif a[i] == \"Speaking\":\n",
    "            Speaking.append(b[i])\n",
    "            level = level + c[i]\n",
    "    Level.append((level)/5)"
   ]
  },
  {
   "cell_type": "markdown",
   "metadata": {},
   "source": [
    "## Function to extract the data from the first sheet of the pdf"
   ]
  },
  {
   "cell_type": "code",
   "execution_count": 1,
   "metadata": {
    "collapsed": true
   },
   "outputs": [],
   "source": [
    "def x_area(foto):\n",
    "      #******************************************\n",
    "    list_x_areas=[]\n",
    "    rectangulo = 0\n",
    "    area_rectangulo = 0 \n",
    "    rectangulo_azul = 0\n",
    "    i = 0\n",
    "\n",
    "    #imagen = cv.imread('page_1.jpeg')\n",
    "    newImg = cv.imread(foto)\n",
    "    imagen = cv.resize(newImg, (0,0), fx=0.10, fy=0.10) #0.75\n",
    "    gray = cv.cvtColor(imagen, cv.COLOR_BGR2GRAY)\n",
    "    canny = cv.Canny(gray, 120,150)\n",
    "    canny = cv.dilate(canny, None, iterations=1)\n",
    "    canny = cv.erode(canny, None, iterations=1)\n",
    "    #_, th = cv.threshold(gray, 50, 255, cv.THRESH_BINARY)\n",
    "\n",
    "    #####################################################\n",
    "\n",
    "    #Busca el contorno de las figuras de la imgen binaria\n",
    "    #cnts,_ = cv.findContours(canny, cv.RETR_EXTERNAL, cv.CHAIN_APPROX_SIMPLE)\n",
    "    contornos = cv.drawContours(imagen,cnts,-1,(255,255,0), 2)\n",
    "\n",
    "\n",
    "    #####################################################\n",
    "\n",
    "    imagenHSV = cv.cvtColor(imagen, cv.COLOR_BGR2HSV)\n",
    "\n",
    "    # azulfuerte\n",
    "    azulBajo = np.array([111, 75, 85])#, np.uint8)\n",
    "    azulFuerte = np.array([130,255, 255])#, np.uint8)\n",
    "\n",
    "    #azulBajo = np.array([100,65,75])\n",
    "    #azulFuerte = np.array([130, 255, 255])\n",
    "\n",
    "    ####################################################\n",
    "\n",
    "    maskAzul = cv.inRange(imagenHSV, azulBajo, azulFuerte)\n",
    "    mediana = cv.medianBlur(maskAzul, 3)\n",
    "    cv.imwrite(\"BLUE_MASK.jpeg\", mediana)\n",
    "\n",
    "    img_blue = cv.imread('BLUE_MASK.jpeg')\n",
    "    gray2 = cv.cvtColor(img_blue, cv.COLOR_BGR2GRAY)\n",
    "    _, th = cv.threshold(gray2, 50, 255, cv.THRESH_BINARY)\n",
    "    canny2 = cv.Canny(th, 100,150)\n",
    "    cntsAzul,_ = cv.findContours(canny2, cv.RETR_EXTERNAL, cv.CHAIN_APPROX_SIMPLE) #Reemplaza por 1, si tienes OpenCV3\n",
    "\n",
    "    for c in cntsAzul:\n",
    "        x, y, w, h = cv.boundingRect(c)\n",
    "        epsilon = 0.03*cv.arcLength(c, True)\n",
    "        approx = cv.approxPolyDP(c, epsilon, True)\n",
    "        #print(len(approx2))\n",
    "        area = cv.contourArea(c)\n",
    "        if area > 10:\n",
    "            list_x_areas.append([x,area])\n",
    "            cv.putText(imagen,str(x),(x,y-5),1,0.8,(0,255,0),1)\n",
    "        if len(approx) == 4:\n",
    "            rectangulo_azul = rectangulo_azul + 1\n",
    "    \n",
    "\n",
    "    k = cv.waitKey(0)\n",
    "    cv.destroyAllWindows()\n",
    "    return list_x_areas"
   ]
  },
  {
   "cell_type": "markdown",
   "metadata": {},
   "source": [
    "## Functions to find which skill the areas belong to and convert them to percentage"
   ]
  },
  {
   "cell_type": "code",
   "execution_count": 9,
   "metadata": {
    "collapsed": true
   },
   "outputs": [],
   "source": [
    "def calculate_porcentage1(listaa):\n",
    "    for i in range (len(listaa)):\n",
    "        if i  < 5:\n",
    "            if listaa[i][0]==93:\n",
    "                por=Porcentage(listaa[i][1],0)\n",
    "                CATCHING_DETAILS1.append(int(por))\n",
    "                list_habilides_score.append(0)\n",
    "            elif listaa[i][0]==136:\n",
    "                por=Porcentage(listaa[i][1],1)\n",
    "                CONNECTING_CONTENT1.append(int(por))\n",
    "                list_habilides_score.append(1)\n",
    "            elif listaa[i][0]==179:\n",
    "                por=Porcentage(listaa[i][1],2)\n",
    "                DETERMINING_THE_PURPOSE1.append(int(por))\n",
    "                list_habilides_score.append(2)\n",
    "            elif listaa[i][0]==222:\n",
    "                por=Porcentage(listaa[i][1],3)\n",
    "                MAIN_IDEA1.append(int(por))\n",
    "                list_habilides_score.append(3)\n",
    "            elif listaa[i][0]==265:\n",
    "                por=Porcentage(listaa[i][1],4)\n",
    "                MAKING_IMPLICATIONS1.append(int(por))\n",
    "                list_habilides_score.append(4)\n",
    "        elif i  > 4:\n",
    "            if listaa[i][0]==50:\n",
    "                por=Porcentage(listaa[i][1],5)\n",
    "                ARTICLES_Y_PREPOSITIONS1.append(int(por))\n",
    "                list_habilides_score.append(5)\n",
    "            elif listaa[i][0]==93:\n",
    "                por=Porcentage(listaa[i][1],6)\n",
    "                CONJUNCTIONS1.append(int(por))\n",
    "                list_habilides_score.append(6)\n",
    "            elif listaa[i][0]==136:\n",
    "                por=Porcentage(listaa[i][1],7)\n",
    "                EXPRESSING_QUANTITY1.append(int(por))\n",
    "                list_habilides_score.append(7)\n",
    "            elif listaa[i][0]==179:\n",
    "                por=Porcentage(listaa[i][1],8)\n",
    "                PARTS_OF_SPEECH1.append(int(por))\n",
    "                list_habilides_score.append(8)\n",
    "            elif listaa[i][0]==222:\n",
    "                por=Porcentage(listaa[i][1],9)\n",
    "                PRONOUNS1.append(int(por))\n",
    "                list_habilides_score.append(9)\n",
    "            elif listaa[i][0]==265:\n",
    "                por=Porcentage(listaa[i][1],10)\n",
    "                SENTENCE_STRUCTURE1.append(int(por))\n",
    "                list_habilides_score.append(10)\n",
    "            elif listaa[i][0]==309:\n",
    "                por=Porcentage(listaa[i][1],11)\n",
    "                VERB_FORMS1.append(int(por))\n",
    "                list_habilides_score.append(11)"
   ]
  },
  {
   "cell_type": "code",
   "execution_count": 10,
   "metadata": {
    "collapsed": true
   },
   "outputs": [],
   "source": [
    "def calculate_porcentage2(listaa):\n",
    "    for i in range (len(listaa)):\n",
    "        if listaa[i][0]==93:\n",
    "            por=Porcentage(listaa[i][1],12)\n",
    "            DETAIL1.append(int(por))\n",
    "            list_habilides_score.append(12)\n",
    "        elif listaa[i][0]==136:\n",
    "            por=Porcentage(listaa[i][1],13)\n",
    "            MAIN_IDEA12.append(int(por))\n",
    "            list_habilides_score.append(13)\n",
    "        elif listaa[i][0]==179:\n",
    "            por=Porcentage(listaa[i][1],14)\n",
    "            SEQUENCING1.append(int(por))\n",
    "            list_habilides_score.append(14)\n",
    "        elif listaa[i][0]==222:\n",
    "            por=Porcentage(listaa[i][1],15)\n",
    "            SYNTHESIS1.append(int(por))\n",
    "            list_habilides_score.append(15)\n",
    "        elif listaa[i][0]==265:\n",
    "            por=Porcentage(listaa[i][1],16)\n",
    "            VOCABULARY1.append(int(por))\n",
    "            list_habilides_score.append(16)"
   ]
  },
  {
   "cell_type": "markdown",
   "metadata": {},
   "source": [
    "## Function that converts each pdf into photos and processes it"
   ]
  },
  {
   "cell_type": "code",
   "execution_count": 11,
   "metadata": {
    "collapsed": true
   },
   "outputs": [],
   "source": [
    "def pdf():\n",
    "    PDF_NUMBER = eval(input(\"please enter the number pdf that i will analyze:\"))\n",
    "    for i in range(PDF_NUMBER):\n",
    "        num=i+1\n",
    "        pages = convert_from_path(\"doc\"+str(num)+\".pdf\",500)\n",
    "        image_counter = 1\n",
    "  \n",
    "        # Iterate through all the pages stored above \n",
    "        for page in pages: \n",
    "\n",
    "            # Declaring filename for each page of PDF as JPG \n",
    "            # For each page, filename will be: \n",
    "            # PDF page 1 -> page_1.jpg \n",
    "            # PDF page 2 -> page_2.jpg \n",
    "            # PDF page 3 -> page_3.jpg \n",
    "            # .... \n",
    "            # PDF page n -> page_n.jpg \n",
    "            filename = \"page_\"+str(image_counter)+\".jpeg\"\n",
    "\n",
    "            # Save the image of the page in system \n",
    "            page.save(filename, 'JPEG') \n",
    "\n",
    "            # Increment the counter to update filename \n",
    "            image_counter = image_counter + 1\n",
    "        lista2=x_area(\"page_2.jpeg\")\n",
    "        lista3=x_area(\"page_3.jpeg\")\n",
    "        calculate_porcentage1(lista2)\n",
    "        calculate_porcentage2(lista3)\n",
    "        check_list(list_habi)\n",
    "        \n",
    "        \n",
    "        pdf_path = \"doc\"+str(num)+\".pdf\"\n",
    "        dfs = tabula.read_pdf(pdf_path, pages=\"1\", stream=True)\n",
    "        tablaa(dfs)\n",
    "        remove(\"page_1.jpeg\")\n",
    "        remove(\"page_2.jpeg\")\n",
    "        remove(\"page_3.jpeg\")\n",
    "        while len(list_habilides_score) >= 1:\n",
    "            del(list_habilides_score[0])\n",
    "        print(\"doc\"+str(num)+\".pdf\")\n",
    "        print(\"*********************************************\")\n",
    "\n",
    "\n"
   ]
  },
  {
   "cell_type": "code",
   "execution_count": 12,
   "metadata": {},
   "outputs": [
    {
     "name": "stdout",
     "output_type": "stream",
     "text": [
      "please enter the number pdf that i will analyze:2\n"
     ]
    },
    {
     "name": "stderr",
     "output_type": "stream",
     "text": [
      "Got stderr: nov 29, 2020 2:42:00 PM org.apache.pdfbox.pdmodel.encryption.SecurityHandler decryptStream\r\n",
      "ADVERTENCIA: Metadata is not encrypted, but was expected to be\r\n",
      "nov 29, 2020 2:42:00 PM org.apache.pdfbox.pdmodel.encryption.SecurityHandler decryptStream\r\n",
      "ADVERTENCIA: Read PDF specification about EncryptMetadata (default value: true)\r\n",
      "nov 29, 2020 2:42:01 PM org.apache.pdfbox.rendering.PDFRenderer suggestKCMS\r\n",
      "INFORMACIÓN: Your current java version is: 1.8.0_181\r\n",
      "nov 29, 2020 2:42:01 PM org.apache.pdfbox.rendering.PDFRenderer suggestKCMS\r\n",
      "INFORMACIÓN: To get higher rendering speed on old java 1.8 or 9 versions,\r\n",
      "nov 29, 2020 2:42:01 PM org.apache.pdfbox.rendering.PDFRenderer suggestKCMS\r\n",
      "INFORMACIÓN:   update to the latest 1.8 or 9 version (>= 1.8.0_191 or >= 9.0.4),\r\n",
      "nov 29, 2020 2:42:01 PM org.apache.pdfbox.rendering.PDFRenderer suggestKCMS\r\n",
      "INFORMACIÓN:   or\r\n",
      "nov 29, 2020 2:42:01 PM org.apache.pdfbox.rendering.PDFRenderer suggestKCMS\r\n",
      "INFORMACIÓN:   use the option -Dsun.java2d.cmm=sun.java2d.cmm.kcms.KcmsServiceProvider\r\n",
      "nov 29, 2020 2:42:01 PM org.apache.pdfbox.rendering.PDFRenderer suggestKCMS\r\n",
      "INFORMACIÓN:   or call System.setProperty(\"sun.java2d.cmm\", \"sun.java2d.cmm.kcms.KcmsServiceProvider\")\r\n",
      "\n"
     ]
    },
    {
     "name": "stdout",
     "output_type": "stream",
     "text": [
      "doc1.pdf\n",
      "*********************************************\n"
     ]
    },
    {
     "name": "stderr",
     "output_type": "stream",
     "text": [
      "Got stderr: nov 29, 2020 2:42:20 PM org.apache.pdfbox.pdmodel.encryption.SecurityHandler decryptStream\r\n",
      "ADVERTENCIA: Metadata is not encrypted, but was expected to be\r\n",
      "nov 29, 2020 2:42:20 PM org.apache.pdfbox.pdmodel.encryption.SecurityHandler decryptStream\r\n",
      "ADVERTENCIA: Read PDF specification about EncryptMetadata (default value: true)\r\n",
      "nov 29, 2020 2:42:21 PM org.apache.pdfbox.rendering.PDFRenderer suggestKCMS\r\n",
      "INFORMACIÓN: Your current java version is: 1.8.0_181\r\n",
      "nov 29, 2020 2:42:21 PM org.apache.pdfbox.rendering.PDFRenderer suggestKCMS\r\n",
      "INFORMACIÓN: To get higher rendering speed on old java 1.8 or 9 versions,\r\n",
      "nov 29, 2020 2:42:21 PM org.apache.pdfbox.rendering.PDFRenderer suggestKCMS\r\n",
      "INFORMACIÓN:   update to the latest 1.8 or 9 version (>= 1.8.0_191 or >= 9.0.4),\r\n",
      "nov 29, 2020 2:42:21 PM org.apache.pdfbox.rendering.PDFRenderer suggestKCMS\r\n",
      "INFORMACIÓN:   or\r\n",
      "nov 29, 2020 2:42:21 PM org.apache.pdfbox.rendering.PDFRenderer suggestKCMS\r\n",
      "INFORMACIÓN:   use the option -Dsun.java2d.cmm=sun.java2d.cmm.kcms.KcmsServiceProvider\r\n",
      "nov 29, 2020 2:42:21 PM org.apache.pdfbox.rendering.PDFRenderer suggestKCMS\r\n",
      "INFORMACIÓN:   or call System.setProperty(\"sun.java2d.cmm\", \"sun.java2d.cmm.kcms.KcmsServiceProvider\")\r\n",
      "\n"
     ]
    },
    {
     "name": "stdout",
     "output_type": "stream",
     "text": [
      "doc2.pdf\n",
      "*********************************************\n"
     ]
    }
   ],
   "source": [
    "pdf()"
   ]
  },
  {
   "cell_type": "markdown",
   "metadata": {},
   "source": [
    "## Export the data to an excel"
   ]
  },
  {
   "cell_type": "code",
   "execution_count": 13,
   "metadata": {
    "collapsed": true
   },
   "outputs": [],
   "source": [
    "import xlsxwriter"
   ]
  },
  {
   "cell_type": "code",
   "execution_count": 17,
   "metadata": {
    "collapsed": true
   },
   "outputs": [],
   "source": [
    "outWorkbook = xlsxwriter.Workbook(\"Result_itep.xlsx\")\n",
    "outSheet = outWorkbook.add_worksheet()\n",
    "for item in range(len(columns)):\n",
    "    outSheet.write(0,item,columns[item])\n",
    "for item in range(len(ARTICLES_Y_PREPOSITIONS1)):\n",
    "    outSheet.write(item+1,0,Level[item])\n",
    "    outSheet.write(item+1,1,Grammar[item])\n",
    "    outSheet.write(item+1,2,Listening[item])\n",
    "    outSheet.write(item+1,3,Reading[item])\n",
    "    outSheet.write(item+1,4,Writing[item])\n",
    "    outSheet.write(item+1,5,Speaking[item])\n",
    "    outSheet.write(item+1,6,ARTICLES_Y_PREPOSITIONS1[item])\n",
    "    outSheet.write(item+1,7,CONJUNCTIONS1[item])\n",
    "    outSheet.write(item+1,8,EXPRESSING_QUANTITY1[item])\n",
    "    outSheet.write(item+1,9,PARTS_OF_SPEECH1[item])\n",
    "    outSheet.write(item+1,10,PRONOUNS1[item])\n",
    "    outSheet.write(item+1,11,SENTENCE_STRUCTURE1[item])\n",
    "    outSheet.write(item+1,12,VERB_FORMS1[item])\n",
    "    outSheet.write(item+1,13,CATCHING_DETAILS1[item])\n",
    "    outSheet.write(item+1,14,CONNECTING_CONTENT1[item])\n",
    "    outSheet.write(item+1,15,DETERMINING_THE_PURPOSE1[item])\n",
    "    outSheet.write(item+1,16,MAIN_IDEA1[item])\n",
    "    outSheet.write(item+1,17,MAKING_IMPLICATIONS1[item])\n",
    "    outSheet.write(item+1,18,DETAIL1[item])\n",
    "    outSheet.write(item+1,19,MAIN_IDEA12[item])\n",
    "    outSheet.write(item+1,20,SEQUENCING1[item])\n",
    "    outSheet.write(item+1,21,SYNTHESIS1[item])\n",
    "    outSheet.write(item+1,22,VOCABULARY1[item])\n",
    "outWorkbook.close()"
   ]
  },
  {
   "cell_type": "code",
   "execution_count": 15,
   "metadata": {
    "collapsed": true
   },
   "outputs": [],
   "source": [
    "#!pip uninstall tabula"
   ]
  },
  {
   "cell_type": "code",
   "execution_count": 16,
   "metadata": {
    "collapsed": true
   },
   "outputs": [],
   "source": [
    "#pip3 install tabula-py"
   ]
  }
 ],
 "metadata": {
  "kernelspec": {
   "display_name": "Python 3",
   "language": "python",
   "name": "python3"
  },
  "language_info": {
   "codemirror_mode": {
    "name": "ipython",
    "version": 3
   },
   "file_extension": ".py",
   "mimetype": "text/x-python",
   "name": "python",
   "nbconvert_exporter": "python",
   "pygments_lexer": "ipython3",
   "version": "3.6.1"
  }
 },
 "nbformat": 4,
 "nbformat_minor": 2
}
